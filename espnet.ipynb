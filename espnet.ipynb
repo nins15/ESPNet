{
 "cells": [
  {
   "cell_type": "code",
   "execution_count": 1,
   "metadata": {
    "_cell_guid": "b1076dfc-b9ad-4769-8c92-a6c4dae69d19",
    "_uuid": "8f2839f25d086af736a60e9eeb907d3b93b6e0e5"
   },
   "outputs": [
    {
     "name": "stdout",
     "output_type": "stream",
     "text": [
      "['trainingimages']\n"
     ]
    }
   ],
   "source": [
    "# This Python 3 environment comes with many helpful analytics libraries installed\n",
    "# It is defined by the kaggle/python docker image: https://github.com/kaggle/docker-python\n",
    "# For example, here's several helpful packages to load in \n",
    "\n",
    "import numpy as np # linear algebra\n",
    "import pandas as pd # data processing, CSV file I/O (e.g. pd.read_csv)\n",
    "\n",
    "# Input data files are available in the \"../input/\" directory.\n",
    "# For example, running this (by clicking run or pressing Shift+Enter) will list the files in the input directory\n",
    "\n",
    "import os\n",
    "print(os.listdir(\"../input\"))\n",
    "\n",
    "\n",
    "# Any results you write to the current directory are saved as output."
   ]
  },
  {
   "cell_type": "code",
   "execution_count": 2,
   "metadata": {
    "_uuid": "e622bdaa2c266aee4c962bee0a48be36b9207604"
   },
   "outputs": [],
   "source": [
    "import numpy as np\n",
    "import matplotlib.pyplot as plt\n",
    "import os\n",
    "import cv2\n",
    "from tqdm import tqdm\n",
    "import random\n",
    "from random import shuffle\n",
    "img_w=256\n",
    "img_h=256"
   ]
  },
  {
   "cell_type": "code",
   "execution_count": 3,
   "metadata": {
    "_uuid": "910e79385d8fd3384b9527c542bbba4800783b81"
   },
   "outputs": [],
   "source": [
    " n_labels=2\n",
    "def label_map(labels):\n",
    "    label_map = np.zeros([img_h, img_w, n_labels])    \n",
    "    for r in range(img_h):\n",
    "        for c in range(img_w):\n",
    "            label_map[r, c, labels[r][c]] = 1\n",
    "    return label_map"
   ]
  },
  {
   "cell_type": "code",
   "execution_count": 4,
   "metadata": {
    "_uuid": "6c2013de5fe46fba1f23142c655e2876a58d0d6e"
   },
   "outputs": [],
   "source": [
    "data1=[]\n",
    "data2=[]\n",
    "label2=[]\n",
    "label1=[]\n",
    "n=0"
   ]
  },
  {
   "cell_type": "code",
   "execution_count": 5,
   "metadata": {
    "_uuid": "e92f9699902ad7f0f6e4d1ee470b66124cf2d078"
   },
   "outputs": [
    {
     "name": "stderr",
     "output_type": "stream",
     "text": [
      "100%|██████████| 150/150 [00:22<00:00,  6.77it/s]\n",
      "100%|██████████| 263/263 [00:39<00:00,  6.92it/s]\n"
     ]
    }
   ],
   "source": [
    "TRAIN_DIR=os.listdir(\"../input/trainingimages/trainingimages\")\n",
    "\n",
    "def create_train_data(n,m):\n",
    "\n",
    "    train_data=[]\n",
    "    \n",
    "    for patient in TRAIN_DIR[n:m]:\n",
    "        pnt=os.path.join(\"../input/trainingimages/trainingimages\",patient)\n",
    "        pnt=os.listdir(pnt)\n",
    "        a,b=pnt\n",
    "        if a=='gt':\n",
    "            gt=a\n",
    "            pnt=b\n",
    "        else:\n",
    "            gt=b\n",
    "            pnt=a\n",
    "        pno=os.path.join(\"../input/trainingimages/trainingimages/\"+patient,pnt)\n",
    "        gno=os.path.join(\"../input/trainingimages/trainingimages/\"+patient,gt)\n",
    "        pnimg=os.listdir(pno)\n",
    "        gtimg=os.listdir(gno)\n",
    "        i=0\n",
    "        for img in tqdm(pnimg):\n",
    "            pnt_img_list=[cv2.resize(cv2.imread(os.path.join(pno,img),cv2.IMREAD_GRAYSCALE),(256,256))]\n",
    "            \n",
    "            gt_array=cv2.resize(np.clip(cv2.imread(os.path.join(gno,img)),0,1),(256,256))\n",
    "                             \n",
    "            data1.append(pnt_img_list)\n",
    "            label1.append(label_map(gt_array))\n",
    "        n=n+1\n",
    "    data, label = np.array(data1).reshape(256,256,413), np.array(label1).reshape(2,256*256,413)\n",
    "    \n",
    "    return data,label\n",
    "            \n",
    "                             \n",
    "            \n",
    "            \n",
    "          \n",
    "            \n",
    "train_data,train_label=create_train_data(0,2)"
   ]
  },
  {
   "cell_type": "code",
   "execution_count": 6,
   "metadata": {
    "_uuid": "6a95b0cdfb132b6b90f3f617a412bb0061876981"
   },
   "outputs": [
    {
     "name": "stdout",
     "output_type": "stream",
     "text": [
      "(256, 256, 413)\n",
      "(413, 256, 256, 1)\n"
     ]
    }
   ],
   "source": [
    "#train_data=train_data.reshape(4956,256,256,1)\n",
    "print(train_data.shape)\n",
    "train_data1=train_data.reshape(413,256,256,1)\n",
    "print(train_data1.shape)"
   ]
  },
  {
   "cell_type": "code",
   "execution_count": 7,
   "metadata": {
    "_uuid": "5971791f15a4a584889bba24449834b46b059c6b"
   },
   "outputs": [
    {
     "name": "stdout",
     "output_type": "stream",
     "text": [
      "(413, 65536, 2)\n"
     ]
    }
   ],
   "source": [
    "train_label=train_label.reshape(413,65536,2)\n",
    "print(train_label.shape)"
   ]
  },
  {
   "cell_type": "code",
   "execution_count": 8,
   "metadata": {
    "_uuid": "2f9bd5b65eeb56bde26b72a7f19785c321d864d0"
   },
   "outputs": [
    {
     "name": "stderr",
     "output_type": "stream",
     "text": [
      "Using TensorFlow backend.\n"
     ]
    }
   ],
   "source": [
    "from keras import models\n",
    "from keras.layers.core import Activation, Reshape, Permute\n",
    "from keras.layers.convolutional import Convolution2D, MaxPooling2D, UpSampling2D\n",
    "from keras.layers.normalization import BatchNormalization\n",
    "from keras.layers import Lambda\n",
    "from keras.backend import slice\n",
    "import json\n",
    "\n",
    "img_w = 256\n",
    "img_h = 256\n",
    "n_labels = 2\n",
    "\n",
    "kernel = 3\n",
    "\n"
   ]
  },
  {
   "cell_type": "code",
   "execution_count": 9,
   "metadata": {
    "_uuid": "fa0ad43c355db94711cf5e006b0d6d2cdcd8a689"
   },
   "outputs": [],
   "source": [
    "import keras\n",
    "import tensorflow as tf\n",
    "from keras.layers import Conv2D, MaxPooling2D\n",
    "def ESPmodule(input_img,M):\n",
    "    K=4\n",
    "    d=M//K\n",
    "    n=3\n",
    "    conv=[]\n",
    "    sum1=[]\n",
    "    input_img1=Conv2D(d, (1,1), padding='same', activation='relu')(input_img)\n",
    "    print(input_img1.shape)\n",
    "    #spatial = Lambda(lambda x: tf.split(x, num_or_size_splits=K, axis=3))(input_img1)\n",
    " \n",
    "    for i in range(K):\n",
    "        conv.append(Conv2D(d, (3,3), padding='same',dilation_rate=2**(i+1), activation='relu')(input_img1))\n",
    "    #sum1.append(conv[0])\n",
    "    \"\"\"for i in range(d-1):\n",
    "        sum1.append(sum1[i]+conv[i+1]) \"\"\" \n",
    "    output = keras.layers.concatenate(conv, axis = 3)\n",
    "    #output1 = keras.layers.concatenate(sum1, axis = 3)\n",
    "    #output=output+input_img\n",
    "    print(output.shape)\n",
    "    #print(output1.shape)\n",
    "    return output\n",
    "    \n",
    "    \n",
    "    \n",
    "    "
   ]
  },
  {
   "cell_type": "code",
   "execution_count": 10,
   "metadata": {
    "_uuid": "a4a127fecf0c698a122275894a5ab3092cdc0526"
   },
   "outputs": [
    {
     "name": "stdout",
     "output_type": "stream",
     "text": [
      "(?, 256, 256, 4)\n",
      "(?, 256, 256, 16)\n",
      "(?, 256, 256, 16)\n",
      "(?, 256, 256, 64)\n",
      "(?, 256, 256, 16)\n",
      "(?, 256, 256, 64)\n",
      "(?, 256, 256, 16)\n",
      "(?, 256, 256, 64)\n",
      "(?, 256, 256, 32)\n",
      "(?, 256, 256, 128)\n",
      "(?, 256, 256, 32)\n",
      "(?, 256, 256, 128)\n",
      "(?, 256, 256, 32)\n",
      "(?, 256, 256, 128)\n",
      "(?, 256, 256, 32)\n",
      "(?, 256, 256, 128)\n"
     ]
    }
   ],
   "source": [
    "from keras.layers import Input\n",
    "input_layer = Input(shape=(256, 256, 1))\n",
    "x = Conv2D(16, (3,3), padding='same', activation='relu')(input_layer)\n",
    "#x = Conv2D(4, (1,1), padding='same', activation='relu')(x)\n",
    "y=ESPmodule(x,16)\n",
    "y1=Conv2D(64, (1,1), padding='same', activation='relu')(y)\n",
    "y2=ESPmodule(y1,64)\n",
    "y3=ESPmodule(y2,64)\n",
    "y4=ESPmodule(y3,64)\n",
    "y5=Conv2D(128, (1,1), padding='same', activation='relu')(y4)\n",
    "y6=ESPmodule(y5,128)\n",
    "y7=ESPmodule(y6,128)\n",
    "y8=ESPmodule(y7,128)\n",
    "y9=ESPmodule(y8,128)\n",
    "encoding_layer1=Conv2D(2, (1,1), padding='same', activation='relu')(y9)"
   ]
  },
  {
   "cell_type": "code",
   "execution_count": 11,
   "metadata": {
    "_uuid": "10d3abad0acc10d2009887556bcdc3705c9030ae"
   },
   "outputs": [
    {
     "name": "stdout",
     "output_type": "stream",
     "text": [
      "(?, 256, 256, 2)\n"
     ]
    }
   ],
   "source": [
    "print(encoding_layer1.shape)"
   ]
  },
  {
   "cell_type": "code",
   "execution_count": 12,
   "metadata": {
    "_uuid": "1ed930f59375a5ac540f8c4ac6a72cf2fba36e97"
   },
   "outputs": [
    {
     "name": "stdout",
     "output_type": "stream",
     "text": [
      "__________________________________________________________________________________________________\n",
      "Layer (type)                    Output Shape         Param #     Connected to                     \n",
      "==================================================================================================\n",
      "input_1 (InputLayer)            (None, 256, 256, 1)  0                                            \n",
      "__________________________________________________________________________________________________\n",
      "conv2d_1 (Conv2D)               (None, 256, 256, 16) 160         input_1[0][0]                    \n",
      "__________________________________________________________________________________________________\n",
      "conv2d_2 (Conv2D)               (None, 256, 256, 4)  68          conv2d_1[0][0]                   \n",
      "__________________________________________________________________________________________________\n",
      "conv2d_3 (Conv2D)               (None, 256, 256, 4)  148         conv2d_2[0][0]                   \n",
      "__________________________________________________________________________________________________\n",
      "conv2d_4 (Conv2D)               (None, 256, 256, 4)  148         conv2d_2[0][0]                   \n",
      "__________________________________________________________________________________________________\n",
      "conv2d_5 (Conv2D)               (None, 256, 256, 4)  148         conv2d_2[0][0]                   \n",
      "__________________________________________________________________________________________________\n",
      "conv2d_6 (Conv2D)               (None, 256, 256, 4)  148         conv2d_2[0][0]                   \n",
      "__________________________________________________________________________________________________\n",
      "concatenate_1 (Concatenate)     (None, 256, 256, 16) 0           conv2d_3[0][0]                   \n",
      "                                                                 conv2d_4[0][0]                   \n",
      "                                                                 conv2d_5[0][0]                   \n",
      "                                                                 conv2d_6[0][0]                   \n",
      "__________________________________________________________________________________________________\n",
      "conv2d_7 (Conv2D)               (None, 256, 256, 64) 1088        concatenate_1[0][0]              \n",
      "__________________________________________________________________________________________________\n",
      "conv2d_8 (Conv2D)               (None, 256, 256, 16) 1040        conv2d_7[0][0]                   \n",
      "__________________________________________________________________________________________________\n",
      "conv2d_9 (Conv2D)               (None, 256, 256, 16) 2320        conv2d_8[0][0]                   \n",
      "__________________________________________________________________________________________________\n",
      "conv2d_10 (Conv2D)              (None, 256, 256, 16) 2320        conv2d_8[0][0]                   \n",
      "__________________________________________________________________________________________________\n",
      "conv2d_11 (Conv2D)              (None, 256, 256, 16) 2320        conv2d_8[0][0]                   \n",
      "__________________________________________________________________________________________________\n",
      "conv2d_12 (Conv2D)              (None, 256, 256, 16) 2320        conv2d_8[0][0]                   \n",
      "__________________________________________________________________________________________________\n",
      "concatenate_2 (Concatenate)     (None, 256, 256, 64) 0           conv2d_9[0][0]                   \n",
      "                                                                 conv2d_10[0][0]                  \n",
      "                                                                 conv2d_11[0][0]                  \n",
      "                                                                 conv2d_12[0][0]                  \n",
      "__________________________________________________________________________________________________\n",
      "conv2d_13 (Conv2D)              (None, 256, 256, 16) 1040        concatenate_2[0][0]              \n",
      "__________________________________________________________________________________________________\n",
      "conv2d_14 (Conv2D)              (None, 256, 256, 16) 2320        conv2d_13[0][0]                  \n",
      "__________________________________________________________________________________________________\n",
      "conv2d_15 (Conv2D)              (None, 256, 256, 16) 2320        conv2d_13[0][0]                  \n",
      "__________________________________________________________________________________________________\n",
      "conv2d_16 (Conv2D)              (None, 256, 256, 16) 2320        conv2d_13[0][0]                  \n",
      "__________________________________________________________________________________________________\n",
      "conv2d_17 (Conv2D)              (None, 256, 256, 16) 2320        conv2d_13[0][0]                  \n",
      "__________________________________________________________________________________________________\n",
      "concatenate_3 (Concatenate)     (None, 256, 256, 64) 0           conv2d_14[0][0]                  \n",
      "                                                                 conv2d_15[0][0]                  \n",
      "                                                                 conv2d_16[0][0]                  \n",
      "                                                                 conv2d_17[0][0]                  \n",
      "__________________________________________________________________________________________________\n",
      "conv2d_18 (Conv2D)              (None, 256, 256, 16) 1040        concatenate_3[0][0]              \n",
      "__________________________________________________________________________________________________\n",
      "conv2d_19 (Conv2D)              (None, 256, 256, 16) 2320        conv2d_18[0][0]                  \n",
      "__________________________________________________________________________________________________\n",
      "conv2d_20 (Conv2D)              (None, 256, 256, 16) 2320        conv2d_18[0][0]                  \n",
      "__________________________________________________________________________________________________\n",
      "conv2d_21 (Conv2D)              (None, 256, 256, 16) 2320        conv2d_18[0][0]                  \n",
      "__________________________________________________________________________________________________\n",
      "conv2d_22 (Conv2D)              (None, 256, 256, 16) 2320        conv2d_18[0][0]                  \n",
      "__________________________________________________________________________________________________\n",
      "concatenate_4 (Concatenate)     (None, 256, 256, 64) 0           conv2d_19[0][0]                  \n",
      "                                                                 conv2d_20[0][0]                  \n",
      "                                                                 conv2d_21[0][0]                  \n",
      "                                                                 conv2d_22[0][0]                  \n",
      "__________________________________________________________________________________________________\n",
      "conv2d_23 (Conv2D)              (None, 256, 256, 128 8320        concatenate_4[0][0]              \n",
      "__________________________________________________________________________________________________\n",
      "conv2d_24 (Conv2D)              (None, 256, 256, 32) 4128        conv2d_23[0][0]                  \n",
      "__________________________________________________________________________________________________\n",
      "conv2d_25 (Conv2D)              (None, 256, 256, 32) 9248        conv2d_24[0][0]                  \n",
      "__________________________________________________________________________________________________\n",
      "conv2d_26 (Conv2D)              (None, 256, 256, 32) 9248        conv2d_24[0][0]                  \n",
      "__________________________________________________________________________________________________\n",
      "conv2d_27 (Conv2D)              (None, 256, 256, 32) 9248        conv2d_24[0][0]                  \n",
      "__________________________________________________________________________________________________\n",
      "conv2d_28 (Conv2D)              (None, 256, 256, 32) 9248        conv2d_24[0][0]                  \n",
      "__________________________________________________________________________________________________\n",
      "concatenate_5 (Concatenate)     (None, 256, 256, 128 0           conv2d_25[0][0]                  \n",
      "                                                                 conv2d_26[0][0]                  \n",
      "                                                                 conv2d_27[0][0]                  \n",
      "                                                                 conv2d_28[0][0]                  \n",
      "__________________________________________________________________________________________________\n",
      "conv2d_29 (Conv2D)              (None, 256, 256, 32) 4128        concatenate_5[0][0]              \n",
      "__________________________________________________________________________________________________\n",
      "conv2d_30 (Conv2D)              (None, 256, 256, 32) 9248        conv2d_29[0][0]                  \n",
      "__________________________________________________________________________________________________\n",
      "conv2d_31 (Conv2D)              (None, 256, 256, 32) 9248        conv2d_29[0][0]                  \n",
      "__________________________________________________________________________________________________\n",
      "conv2d_32 (Conv2D)              (None, 256, 256, 32) 9248        conv2d_29[0][0]                  \n",
      "__________________________________________________________________________________________________\n",
      "conv2d_33 (Conv2D)              (None, 256, 256, 32) 9248        conv2d_29[0][0]                  \n",
      "__________________________________________________________________________________________________\n",
      "concatenate_6 (Concatenate)     (None, 256, 256, 128 0           conv2d_30[0][0]                  \n",
      "                                                                 conv2d_31[0][0]                  \n",
      "                                                                 conv2d_32[0][0]                  \n",
      "                                                                 conv2d_33[0][0]                  \n",
      "__________________________________________________________________________________________________\n",
      "conv2d_34 (Conv2D)              (None, 256, 256, 32) 4128        concatenate_6[0][0]              \n",
      "__________________________________________________________________________________________________\n",
      "conv2d_35 (Conv2D)              (None, 256, 256, 32) 9248        conv2d_34[0][0]                  \n",
      "__________________________________________________________________________________________________\n",
      "conv2d_36 (Conv2D)              (None, 256, 256, 32) 9248        conv2d_34[0][0]                  \n",
      "__________________________________________________________________________________________________\n",
      "conv2d_37 (Conv2D)              (None, 256, 256, 32) 9248        conv2d_34[0][0]                  \n",
      "__________________________________________________________________________________________________\n",
      "conv2d_38 (Conv2D)              (None, 256, 256, 32) 9248        conv2d_34[0][0]                  \n",
      "__________________________________________________________________________________________________\n",
      "concatenate_7 (Concatenate)     (None, 256, 256, 128 0           conv2d_35[0][0]                  \n",
      "                                                                 conv2d_36[0][0]                  \n",
      "                                                                 conv2d_37[0][0]                  \n",
      "                                                                 conv2d_38[0][0]                  \n",
      "__________________________________________________________________________________________________\n",
      "conv2d_39 (Conv2D)              (None, 256, 256, 32) 4128        concatenate_7[0][0]              \n",
      "__________________________________________________________________________________________________\n",
      "conv2d_40 (Conv2D)              (None, 256, 256, 32) 9248        conv2d_39[0][0]                  \n",
      "__________________________________________________________________________________________________\n",
      "conv2d_41 (Conv2D)              (None, 256, 256, 32) 9248        conv2d_39[0][0]                  \n",
      "__________________________________________________________________________________________________\n",
      "conv2d_42 (Conv2D)              (None, 256, 256, 32) 9248        conv2d_39[0][0]                  \n",
      "__________________________________________________________________________________________________\n",
      "conv2d_43 (Conv2D)              (None, 256, 256, 32) 9248        conv2d_39[0][0]                  \n",
      "__________________________________________________________________________________________________\n",
      "concatenate_8 (Concatenate)     (None, 256, 256, 128 0           conv2d_40[0][0]                  \n",
      "                                                                 conv2d_41[0][0]                  \n",
      "                                                                 conv2d_42[0][0]                  \n",
      "                                                                 conv2d_43[0][0]                  \n",
      "__________________________________________________________________________________________________\n",
      "conv2d_44 (Conv2D)              (None, 256, 256, 2)  258         concatenate_8[0][0]              \n",
      "==================================================================================================\n",
      "Total params: 205,926\n",
      "Trainable params: 205,926\n",
      "Non-trainable params: 0\n",
      "__________________________________________________________________________________________________\n",
      "None\n"
     ]
    }
   ],
   "source": [
    "from keras.models import Model\n",
    "\n",
    "model = Model(input_layer, encoding_layer1, name='inception_v1')\n",
    "print (model.summary())\n"
   ]
  },
  {
   "cell_type": "code",
   "execution_count": 13,
   "metadata": {
    "_uuid": "139d271525f1bbf09d7da233ffaec018db2018b2"
   },
   "outputs": [],
   "source": [
    "model.compile(loss='categorical_crossentropy', optimizer='adam', metrics=['accuracy'])"
   ]
  },
  {
   "cell_type": "code",
   "execution_count": 14,
   "metadata": {
    "_uuid": "cb100561866fad35ac05ceade4ffa2334f3240d4"
   },
   "outputs": [
    {
     "name": "stderr",
     "output_type": "stream",
     "text": [
      "/opt/conda/lib/python3.6/site-packages/ipykernel_launcher.py:4: UserWarning: The `nb_epoch` argument in `fit` has been renamed `epochs`.\n",
      "  after removing the cwd from sys.path.\n"
     ]
    },
    {
     "name": "stdout",
     "output_type": "stream",
     "text": [
      "Epoch 1/2\n",
      "413/413 [==============================] - 1302s 3s/step - loss: nan - acc: 0.9563\n",
      "Epoch 2/2\n",
      "413/413 [==============================] - 1274s 3s/step - loss: nan - acc: 0.9906\n"
     ]
    },
    {
     "data": {
      "text/plain": [
       "<keras.callbacks.History at 0x7fda207e1518>"
      ]
     },
     "execution_count": 14,
     "metadata": {},
     "output_type": "execute_result"
    }
   ],
   "source": [
    "nb_epoch=2\n",
    "batch_size=18\n",
    "train_label=np.reshape(train_label,(413,256,256,2))\n",
    "model.fit(train_data1, train_label, batch_size=batch_size, nb_epoch=nb_epoch, verbose=1)"
   ]
  }
 ],
 "metadata": {
  "kernelspec": {
   "display_name": "Python 3",
   "language": "python",
   "name": "python3"
  },
  "language_info": {
   "codemirror_mode": {
    "name": "ipython",
    "version": 3
   },
   "file_extension": ".py",
   "mimetype": "text/x-python",
   "name": "python",
   "nbconvert_exporter": "python",
   "pygments_lexer": "ipython3",
   "version": "3.6.6"
  }
 },
 "nbformat": 4,
 "nbformat_minor": 1
}
